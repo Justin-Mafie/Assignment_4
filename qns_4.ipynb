{
 "cells": [
  {
   "cell_type": "code",
   "execution_count": 3,
   "id": "initial_id",
   "metadata": {
    "collapsed": true,
    "ExecuteTime": {
     "end_time": "2023-11-25T23:41:39.980526Z",
     "start_time": "2023-11-25T23:41:30.942959Z"
    }
   },
   "outputs": [
    {
     "name": "stdout",
     "output_type": "stream",
     "text": [
      "Epoch 1/5\n",
      "1875/1875 [==============================] - 2s 865us/step - loss: 0.2408 - accuracy: 0.9292\n",
      "Epoch 2/5\n",
      "1875/1875 [==============================] - 2s 887us/step - loss: 0.0992 - accuracy: 0.9696\n",
      "Epoch 3/5\n",
      "1875/1875 [==============================] - 2s 839us/step - loss: 0.0695 - accuracy: 0.9781\n",
      "Epoch 4/5\n",
      "1875/1875 [==============================] - 1s 759us/step - loss: 0.0541 - accuracy: 0.9823\n",
      "Epoch 5/5\n",
      "1875/1875 [==============================] - 1s 730us/step - loss: 0.0421 - accuracy: 0.9865\n",
      "313/313 [==============================] - 0s 342us/step - loss: 0.0836 - accuracy: 0.9764\n",
      "Test accuracy: 0.9764000177383423\n"
     ]
    }
   ],
   "source": [
    "import tensorflow as tf\n",
    "from tensorflow.keras.datasets import mnist\n",
    "from tensorflow.keras.models import Sequential\n",
    "from tensorflow.keras.layers import Dense\n",
    "\n",
    "# Load the MNIST dataset\n",
    "(X_train, y_train), (X_test, y_test) = mnist.load_data()\n",
    "\n",
    "# Get the number of instances in the training and testing sets\n",
    "number_of_training_instances = X_train.shape[0]\n",
    "number_of_testing_instances = X_test.shape[0]\n",
    "\n",
    "# Reshape the dataset to flatten the images\n",
    "X_train = X_train.reshape((number_of_training_instances, 28*28))\n",
    "X_test = X_test.reshape((number_of_testing_instances, 28*28))\n",
    "\n",
    "# Normalize pixel values to be between 0 and 1\n",
    "X_train, X_test = X_train / 255.0, X_test / 255.0\n",
    "\n",
    "# Define the neural network model\n",
    "model = Sequential()\n",
    "model.add(Dense(128, input_dim=28*28, activation='relu'))  # First hidden layer with 128 neurons and 'relu' activation\n",
    "model.add(Dense(64, activation='relu'))  # Second hidden layer with 64 neurons and 'relu' activation\n",
    "model.add(Dense(10, activation='softmax'))  # Output layer with 10 neurons for 10 digits and 'softmax' activation\n",
    "\n",
    "# Compile the model with 'adam' optimizer, 'sparse_categorical_crossentropy' loss, and accuracy as a metric\n",
    "model.compile(optimizer='adam',\n",
    "              loss='sparse_categorical_crossentropy',\n",
    "              metrics=['accuracy'])\n",
    "\n",
    "# Train the model on the training set for 5 epochs (you can adjust as needed)\n",
    "model.fit(X_train, y_train, epochs=5)\n",
    "\n",
    "# Evaluate the model on the testing set\n",
    "test_loss, test_accuracy = model.evaluate(X_test, y_test)\n",
    "print(f'Test accuracy: {test_accuracy}')\n",
    "\n",
    "# Save the trained model to a file ('digits_model.h5')\n",
    "model.save('digits_model.h5')\n"
   ]
  },
  {
   "cell_type": "code",
   "execution_count": null,
   "outputs": [],
   "source": [],
   "metadata": {
    "collapsed": false
   },
   "id": "b07b3b029331e67d"
  }
 ],
 "metadata": {
  "kernelspec": {
   "display_name": "Python 3",
   "language": "python",
   "name": "python3"
  },
  "language_info": {
   "codemirror_mode": {
    "name": "ipython",
    "version": 2
   },
   "file_extension": ".py",
   "mimetype": "text/x-python",
   "name": "python",
   "nbconvert_exporter": "python",
   "pygments_lexer": "ipython2",
   "version": "2.7.6"
  }
 },
 "nbformat": 4,
 "nbformat_minor": 5
}
